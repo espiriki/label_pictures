{
 "cells": [
  {
   "cell_type": "code",
   "execution_count": 205,
   "id": "f7569d03",
   "metadata": {},
   "outputs": [],
   "source": [
    "from __future__ import print_function\n",
    "\n",
    "import os.path\n",
    "import io\n",
    "import os\n",
    "\n",
    "from google.auth.transport.requests import Request\n",
    "from google.oauth2.credentials import Credentials\n",
    "from google_auth_oauthlib.flow import InstalledAppFlow\n",
    "from googleapiclient.discovery import build\n",
    "from googleapiclient.errors import HttpError\n",
    "from apiclient.http import MediaFileUpload, MediaIoBaseDownload\n",
    "import glob"
   ]
  },
  {
   "cell_type": "code",
   "execution_count": 206,
   "id": "3cfa477e",
   "metadata": {},
   "outputs": [],
   "source": [
    "test = True"
   ]
  },
  {
   "cell_type": "code",
   "execution_count": 237,
   "id": "243dfa7f",
   "metadata": {},
   "outputs": [],
   "source": [
    "# If modifying these scopes, delete the file token.json.\n",
    "SCOPES = ['https://www.googleapis.com/auth/drive']\n",
    "\n",
    "if test:\n",
    "    Unlabeled_folder_id = \"'1ak6TCbKP1eIyo0PZJWcL7_bFEVpnqNzb'\"\n",
    "    Recycable_refund_folder_id = \"'1JLMZ05T7XNk2YYMW8Lf1mJcMj3Y1K5Z5'\"\n",
    "    Recycable_blue_folder_id = \"'1_G5GTbsntYAr-SbxLMPvzyg8Gw_Z9tqu'\"\n",
    "    Landfill_black_folder_id = \"'1wvlEEUiiz63wHbyC9tab9NL8qEzoTrA9'\"\n",
    "    Compostable_green_folder_id =  \"'1cxp3T7SFEOn_jHyiQQ0cxfvxLfC-B6Sw'\"\n",
    "else:\n",
    "    Unlabeled_folder_id = \"'1ak6TCbKP1eIyo0PZJWcL7_bFEVpnqNzb'\"\n",
    "    Recycable_refund_folder_id = \"'17xsufNVLeSvrga6c5RHRqL9_y40ofoy1'\"\n",
    "    Recycable_blue_folder_id = \"'1fYfpTL6cA81k1qdG1pni0mvleFD2rz5o'\"\n",
    "    Landfill_black_folder_id = \"'1fu7wsN1ExBGCkte-Rt_bUIC6_8e5P-Vu'\"\n",
    "    Compostable_green_folder_id =  \"'1DCAzFbUWhA7CnmF9HFV9RjEDkUgFqueD'\"\n",
    "    \n",
    "folder_name_id = {\n",
    "    Recycable_refund_folder_id: \"refund\",\n",
    "    Landfill_black_folder_id: \"black\",\n",
    "    Recycable_blue_folder_id: \"blue\",\n",
    "    Compostable_green_folder_id: \"green\",\n",
    "}"
   ]
  },
  {
   "cell_type": "code",
   "execution_count": 208,
   "id": "ce7c7179",
   "metadata": {},
   "outputs": [],
   "source": [
    "def get_current_pics_in_folder(folder):\n",
    "    return [fn for fn in os.listdir(folder) if fn.endswith(('.jpeg', '.jpg'))]"
   ]
  },
  {
   "cell_type": "code",
   "execution_count": 209,
   "id": "adc125fe",
   "metadata": {},
   "outputs": [],
   "source": [
    "    def get_driver_service_obj():\n",
    "        \"\"\"Shows basic usage of the Drive v3 API.\n",
    "        Prints the names and ids of the first 10 files the user has access to.\n",
    "        \"\"\"\n",
    "        creds = None\n",
    "        # The file token.json stores the user's access and refresh tokens, and is\n",
    "        # created automatically when the authorization flow completes for the first\n",
    "        # time.\n",
    "        if os.path.exists('token.json'):\n",
    "            creds = Credentials.from_authorized_user_file('token.json', SCOPES)\n",
    "        # If there are no (valid) credentials available, let the user log in.\n",
    "        if not creds or not creds.valid:\n",
    "            if creds and creds.expired and creds.refresh_token:\n",
    "                creds.refresh(Request())\n",
    "            else:\n",
    "\n",
    "                flow = InstalledAppFlow.from_client_secrets_file(\n",
    "                    'credentials.json', SCOPES)\n",
    "                creds = flow.run_local_server(port=0)\n",
    "            # Save the credentials for the next run\n",
    "            with open('token.json', 'w') as token:\n",
    "                token.write(creds.to_json())\n",
    "                \n",
    "        return build('drive', 'v3', credentials=creds)"
   ]
  },
  {
   "cell_type": "code",
   "execution_count": 280,
   "id": "15fe50b5",
   "metadata": {},
   "outputs": [],
   "source": [
    "# To Download Files\n",
    "def downloadfiles(service, items, folder):\n",
    "    \n",
    "    if not os.path.isdir(folder):\n",
    "        os.mkdir(folder)\n",
    "        \n",
    "    already_downloaded =  get_current_pics_in_folder('./Unlabeled')\n",
    "    \n",
    "    actually_downloaded = []\n",
    "    for item in items:\n",
    "        if item['name'] not in already_downloaded:\n",
    "            name = item['name']\n",
    "            actually_downloaded.append(name)\n",
    "            print(\"Downloading file: \" + name)\n",
    "            dowid = item['id']\n",
    "            request = service.files().get_media(fileId=dowid)\n",
    "            fh = io.BytesIO()\n",
    "            downloader = MediaIoBaseDownload(fh, request)\n",
    "            done = False\n",
    "            while done is False:\n",
    "                status, done = downloader.next_chunk()\n",
    "                print(\"Download %d%%.\" % int(status.progress() * 100))\n",
    "                \n",
    "            with io.open(folder + os.sep + name, 'wb') as f:\n",
    "                fh.seek(0)\n",
    "                f.write(fh.read())\n",
    "        \n",
    "    return actually_downloaded, already_downloaded\n"
   ]
  },
  {
   "cell_type": "code",
   "execution_count": 281,
   "id": "d153203a",
   "metadata": {},
   "outputs": [],
   "source": [
    "def list_and_download_files(service):            \n",
    "    try:\n",
    "        \n",
    "        results = service.files().list(\n",
    "        pageSize=1000, q=Unlabeled_folder_id+\" in parents\",\\\n",
    "        fields=\"nextPageToken, files(id, name, mimeType)\").execute()\n",
    "        \n",
    "        items_metadata = results.get('files', [])\n",
    "        if items_metadata:\n",
    "            actually_downloaded, already_downloaded = downloadfiles(service, items_metadata, \"Unlabeled\")\n",
    "        else:\n",
    "            print('No files found.') \n",
    "            \n",
    "    except HttpError as error:\n",
    "        print(f'An error occurred: {error}')    \n",
    "    \n",
    "    print(\"Pictures actually downloaded: \" + str(actually_downloaded))\n",
    "    print(\"Pictures already in downloaded: \" + str(already_downloaded))\n",
    "    print(\"\\n\")\n",
    "    print(\"Downloaded all pictures!\")\n",
    "    return items_metadata\n"
   ]
  },
  {
   "cell_type": "code",
   "execution_count": 282,
   "id": "6d1955c3",
   "metadata": {},
   "outputs": [],
   "source": [
    "def delete_files(itens_in_remote_folder, files):\n",
    "      \n",
    "    if not downloaded_items:\n",
    "        print(\"No downloaded items!\")\n",
    "    \n",
    "    #List all pics that are still not labeled\n",
    "    current_pics_in_local_folder =  get_current_pics_in_folder('./Unlabeled')\n",
    "    \n",
    "    names_pics_in_remote_folder = []\n",
    "    for item in itens_in_remote_folder:\n",
    "        names_pics_in_remote_folder.append(item['name'])\n",
    "        \n",
    "    delete_from_remote_folder = set(names_pics_in_remote_folder) - set(current_pics_in_local_folder)\n",
    "    \n",
    "    if len(delete_from_remote_folder) == 0:\n",
    "        print(\"No items to delete from remote folder\")\n",
    "        \n",
    "    else:\n",
    "        for picture in delete_from_remote_folder:\n",
    "            for item in itens_in_remote_folder:\n",
    "                if picture == item['name']:\n",
    "                    print(\"deleting file with name: \" + item['name'])\n",
    "                    try:\n",
    "                        service.files().delete(fileId=item['id']).execute()\n",
    "                    except HttpError as error:\n",
    "                        print('An error occurred: %s' % error)\n"
   ]
  },
  {
   "cell_type": "code",
   "execution_count": 283,
   "id": "f4b273d0",
   "metadata": {},
   "outputs": [],
   "source": [
    "def get_pics_names(folder):\n",
    "    names = [fn for fn in os.listdir(folder) if fn.endswith(('.jpeg', '.jpg'))]\n",
    "    sep = '.'\n",
    "    names_no_ext = []\n",
    "    \n",
    "    for pic in names:\n",
    "        name = pic.split(sep, 1)[0]\n",
    "        names_no_ext.append(name)\n",
    "        \n",
    "    return names_no_ext\n",
    "    "
   ]
  },
  {
   "cell_type": "code",
   "execution_count": 302,
   "id": "3b338d8e",
   "metadata": {},
   "outputs": [],
   "source": [
    "def upload_files_to_folder(service, folder_id):\n",
    "\n",
    "    folder_name = folder_name_id[folder_id] \n",
    "    pics_to_upload = get_current_pics_in_folder(folder_name)\n",
    "    pics_names = get_pics_names(folder_name)    \n",
    "\n",
    "    zip_iterator = zip(pics_names, pics_to_upload)\n",
    "    files_dict = dict(zip_iterator)\n",
    "    \n",
    "    print(\"Uploading to remote: \" + folder_id + \" from local folder: \" + folder_name )\n",
    "    \n",
    "    for file in files_dict.items():    \n",
    "        file_metadata = file\n",
    "        file_with_ext = file_metadata[1]\n",
    "        media = MediaFileUpload(folder_name + os.sep + file_with_ext, mimetype='image/jpeg')\n",
    "        try:        \n",
    "            file = service.files().create(body=file_metadata,\n",
    "                                        media_body=media,\n",
    "                                        fields='id').execute()\n",
    "            \n",
    "        except HttpError as error:\n",
    "            print('An error occurred: ' + error)\n",
    "            \n",
    "        print ('Uploaded file with ID: ' + file.get('id'))\n",
    "    "
   ]
  },
  {
   "cell_type": "code",
   "execution_count": 288,
   "id": "e4032e8a",
   "metadata": {},
   "outputs": [
    {
     "name": "stdout",
     "output_type": "stream",
     "text": [
      "Pictures actually downloaded: []\n",
      "Pictures already in downloaded: ['Copy of PXL_20220616_041242531.jpg', 'Copy of PXL_20220616_041811212.jpg', 'Copy of PXL_20220616_042141352.jpg', 'Copy of PXL_20220616_042430334.jpg', 'Copy of PXL_20220616_042436967.jpg', 'Copy of PXL_20220616_044043991.jpg', 'Copy of PXL_20220617_044329909.jpg', 'Copy of PXL_20220617_044338565.jpg', 'Copy of PXL_20220617_172507513.jpg', 'Copy of PXL_20220617_172516047.jpg', 'Copy of PXL_20220617_172531123.jpg', 'Copy of PXL_20220617_172615699.jpg', 'Copy of PXL_20220617_172620254.jpg', 'Copy of PXL_20220617_212002455~2.jpg', 'Copy of PXL_20220617_212103254~2.jpg', 'Copy of PXL_20220618_190551930~2.jpg', 'Copy of PXL_20220618_193250806~2.jpg', 'Copy of PXL_20220618_204731868~2.jpg', 'Copy of PXL_20220618_204737221~2.jpg', 'Copy of PXL_20220618_204744415.jpg']\n",
      "\n",
      "\n",
      "Downloaded all pictures!\n"
     ]
    }
   ],
   "source": [
    "#This generates the service object that we'll use for interacting with the Drive\n",
    "service = get_driver_service_obj()\n",
    "\n",
    "# Download all files that are not downloaded into the Unlabeled folder\n",
    "items_metadata = list_and_download_files(service)"
   ]
  },
  {
   "cell_type": "code",
   "execution_count": 289,
   "id": "5b7985a3",
   "metadata": {},
   "outputs": [],
   "source": [
    "# Logic to classify files"
   ]
  },
  {
   "cell_type": "code",
   "execution_count": 290,
   "id": "6a485f3d",
   "metadata": {},
   "outputs": [
    {
     "name": "stdout",
     "output_type": "stream",
     "text": [
      "No items to delete from remote folder\n"
     ]
    }
   ],
   "source": [
    "#This will delete pictures that were labeled from the \"Unlabeled\" folder in the Drive\n",
    "delete_files(items_metadata, service)"
   ]
  },
  {
   "cell_type": "code",
   "execution_count": 303,
   "id": "c29d009a",
   "metadata": {},
   "outputs": [
    {
     "name": "stdout",
     "output_type": "stream",
     "text": [
      "Uploading to remote: '1cxp3T7SFEOn_jHyiQQ0cxfvxLfC-B6Sw' from local folder: green\n",
      "Uploaded file with ID: 1_GBbzVZKcDsKL6t5qukDP3FiNDrvzaZb\n"
     ]
    }
   ],
   "source": [
    "upload_files_to_folder(service, Compostable_green_folder_id)"
   ]
  },
  {
   "cell_type": "code",
   "execution_count": null,
   "id": "ac1aec79",
   "metadata": {},
   "outputs": [],
   "source": []
  }
 ],
 "metadata": {
  "kernelspec": {
   "display_name": "Python 3 (ipykernel)",
   "language": "python",
   "name": "python3"
  },
  "language_info": {
   "codemirror_mode": {
    "name": "ipython",
    "version": 3
   },
   "file_extension": ".py",
   "mimetype": "text/x-python",
   "name": "python",
   "nbconvert_exporter": "python",
   "pygments_lexer": "ipython3",
   "version": "3.9.7"
  }
 },
 "nbformat": 4,
 "nbformat_minor": 5
}
